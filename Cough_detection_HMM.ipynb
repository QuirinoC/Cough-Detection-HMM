{
 "cells": [
  {
   "cell_type": "markdown",
   "metadata": {},
   "source": [
    "# Cough detection\n",
    "## Authors\n",
    "- [quirinoc](https://github.com/quirinoc)\n",
    "- [Guillermo](https://github.com/memoherreraacosta)\n",
    "- Cabello\n",
    "- Karol\n",
    "- Daniela\n",
    "\n",
    "## Based on \n",
    "### [Music Genre Classification using Hidden Markov Models - Salih Boutadghart](https://blog.goodaudience.com/music-genre-classification-using-hidden-markov-models-4a7f14eb0fd4)"
   ]
  },
  {
   "cell_type": "markdown",
   "metadata": {},
   "source": [
    "# Prepare modules"
   ]
  },
  {
   "cell_type": "code",
   "execution_count": 231,
   "metadata": {},
   "outputs": [],
   "source": [
    "! pip install -r requirements.txt --quiet"
   ]
  },
  {
   "cell_type": "code",
   "execution_count": 232,
   "metadata": {},
   "outputs": [],
   "source": [
    "import pandas as pd\n",
    "import numpy as np\n",
    "import matplotlib.pyplot as plt\n",
    "import os.path as path\n",
    "\n",
    "from python_speech_features import mfcc, logfbank\n",
    "from scipy.io import wavfile\n",
    "from hmmlearn import hmm\n",
    "from sklearn.metrics import confusion_matrix\n",
    "from random import randint, shuffle\n",
    "\n",
    "import itertools\n",
    "import os\n",
    "import glob"
   ]
  },
  {
   "cell_type": "markdown",
   "metadata": {},
   "source": [
    "## HMM Methods"
   ]
  },
  {
   "cell_type": "code",
   "execution_count": 233,
   "metadata": {},
   "outputs": [],
   "source": [
    "class HMMTrainer(object):\n",
    "    def __init__(self,\n",
    "                 model_name='GaussianHMM',\n",
    "                 n_components=4,\n",
    "                 cov_type='diag',\n",
    "                 n_iter=1000):\n",
    "        \n",
    "        self.model_name = model_name\n",
    "        self.n_components = n_components\n",
    "        self.cov_type = cov_type\n",
    "        self.n_iter = n_iter\n",
    "        if self.model_name == 'GaussianHMM':\n",
    "            self.model = hmm.GaussianHMM(\n",
    "                n_components=self.n_components,\n",
    "                covariance_type=self.cov_type,\n",
    "                n_iter=self.n_iter\n",
    "            )\n",
    "            \n",
    "        else:\n",
    "            raise TypeError('Invalid model type') \n",
    "\n",
    "    def train(self, X):\n",
    "        np.seterr(all='ignore')\n",
    "        self.model.fit(X)\n",
    "        # Run the model on input data\n",
    "        \n",
    "    def get_score(self, input_data):\n",
    "        return self.model.score(input_data)"
   ]
  },
  {
   "cell_type": "code",
   "execution_count": 234,
   "metadata": {},
   "outputs": [],
   "source": [
    "def plot_confusion_matrix(cm,\n",
    "                          classes,\n",
    "                          normalize=False,\n",
    "                          title='Confusion matrix',\n",
    "                          cmap=plt.cm.Blues):\n",
    "\n",
    "    if normalize:\n",
    "        cm = cm.astype('float') / cm.sum(axis=1)[:, np.newaxis]\n",
    "        print(\"Normalized confusion matrix\")\n",
    "    else:\n",
    "        print('Confusion matrix, without normalization')\n",
    "        \n",
    "    plt.imshow(cm,\n",
    "               interpolation='nearest',\n",
    "               cmap=cmap)\n",
    "    \n",
    "    plt.title(title)\n",
    "    plt.colorbar()\n",
    "    tick_marks = np.arange(len(classes))\n",
    "    plt.xticks(\n",
    "        tick_marks,\n",
    "        classes,\n",
    "        rotation=45)\n",
    "    \n",
    "    plt.yticks(\n",
    "        tick_marks,\n",
    "        classes)\n",
    "\n",
    "    fmt = '.2f' if normalize else 'd'\n",
    "    thresh = cm.max() / 2.\n",
    "    for i, j in itertools.product(range(cm.shape[0]), range(cm.shape[1])):\n",
    "        plt.text(j,\n",
    "                 i,\n",
    "                 format(cm[i, j], fmt),\n",
    "                 horizontalalignment=\"center\",\n",
    "                 color=\"white\" if cm[i, j] > thresh else \"black\")\n",
    "\n",
    "    plt.tight_layout()\n",
    "    plt.ylabel('True label')\n",
    "    plt.xlabel('Predicted label')"
   ]
  },
  {
   "cell_type": "code",
   "execution_count": 235,
   "metadata": {},
   "outputs": [],
   "source": [
    "def test_category(models, data, label):\n",
    "    pred_labels = []\n",
    "    for mfcc_filter in data:\n",
    "        category = get_pred(models, mfcc_filter)\n",
    "        pred_labels.append(\n",
    "            category == label\n",
    "        )\n",
    "    return pred_labels"
   ]
  },
  {
   "cell_type": "code",
   "execution_count": 236,
   "metadata": {},
   "outputs": [],
   "source": [
    "def get_pred(models, data):\n",
    "    max_score = float('-inf')\n",
    "    max_score_category = None\n",
    "    for category in models:\n",
    "        score = models[category].get_score(data)\n",
    "        if score > max_score:\n",
    "            max_score = score\n",
    "            max_score_category = category\n",
    "    return max_score_category"
   ]
  },
  {
   "cell_type": "markdown",
   "metadata": {},
   "source": [
    "## EDA"
   ]
  },
  {
   "cell_type": "code",
   "execution_count": 237,
   "metadata": {},
   "outputs": [],
   "source": [
    "categories = ['cough', 'no_cough']"
   ]
  },
  {
   "cell_type": "code",
   "execution_count": 238,
   "metadata": {},
   "outputs": [
    {
     "name": "stderr",
     "output_type": "stream",
     "text": [
      "/Library/Frameworks/Python.framework/Versions/3.7/lib/python3.7/site-packages/scipy/io/wavfile.py:273: WavFileWarning: Chunk (non-data) not understood, skipping it.\n",
      "  WavFileWarning)\n",
      "WARNING:root:frame length (1103) is greater than FFT size (512), frame will be truncated. Increase NFFT to avoid.\n",
      "WARNING:root:frame length (1103) is greater than FFT size (512), frame will be truncated. Increase NFFT to avoid.\n"
     ]
    }
   ],
   "source": [
    "sampling_freq, audio = wavfile.read(\"data/cough/15435__acclivity__goatsinthedust.wav\")\n",
    "mfcc_features = mfcc(audio, sampling_freq)\n",
    "filterbank_features = logfbank(audio, sampling_freq)"
   ]
  },
  {
   "cell_type": "code",
   "execution_count": 239,
   "metadata": {},
   "outputs": [
    {
     "name": "stdout",
     "output_type": "stream",
     "text": [
      "\n",
      "MFCC:\n",
      "Number of windows = 7216\n",
      "Length of each feature = 13\n",
      "\n",
      "Filter bank:\n",
      "Number of windows = 7216\n",
      "Length of each feature = 26\n"
     ]
    }
   ],
   "source": [
    "print ('\\nMFCC:\\nNumber of windows =', mfcc_features.shape[0])\n",
    "print ('Length of each feature =', mfcc_features.shape[1])\n",
    "print ('\\nFilter bank:\\nNumber of windows =', filterbank_features.shape[0])\n",
    "print ('Length of each feature =', filterbank_features.shape[1])"
   ]
  },
  {
   "cell_type": "code",
   "execution_count": 240,
   "metadata": {},
   "outputs": [
    {
     "name": "stderr",
     "output_type": "stream",
     "text": [
      "WARNING:root:frame length (1103) is greater than FFT size (1024), frame will be truncated. Increase NFFT to avoid.\n",
      "WARNING:root:frame length (1103) is greater than FFT size (1024), frame will be truncated. Increase NFFT to avoid.\n"
     ]
    },
    {
     "data": {
      "image/png": "[encoded data removed]",
      "text/plain": [
       "<Figure size 1440x216 with 1 Axes>"
      ]
     },
     "metadata": {
      "needs_background": "light"
     },
     "output_type": "display_data"
    },
    {
     "data": {
      "image/png": "[encoded data removed]",
      "text/plain": [
       "<Figure size 1152x144 with 1 Axes>"
      ]
     },
     "metadata": {
      "needs_background": "light"
     },
     "output_type": "display_data"
    },
    {
     "data": {
      "image/png": "[encoded data removed]",
      "text/plain": [
       "<Figure size 1152x144 with 1 Axes>"
      ]
     },
     "metadata": {
      "needs_background": "light"
     },
     "output_type": "display_data"
    }
   ],
   "source": [
    "figure = plt.figure(figsize=(20,3))\n",
    "for category in categories: \n",
    "    example_data_path = path.join('data', category)\n",
    "    file_paths = glob.glob(path.join(example_data_path, '*.wav'))\n",
    "    sampling_freq, audio = wavfile.read(file_paths[randint(0, len(file_paths) - 1)])\n",
    "    mfcc_features = mfcc(audio, sampling_freq, nfft=1024)\n",
    "    plt.yscale('linear')\n",
    "    plt.matshow((mfcc_features.T)[:,:300])\n",
    "    plt.text(150, -10, category, horizontalalignment='center', fontsize=20)\n",
    "\n",
    "plt.yscale('linear')\n",
    "plt.show()"
   ]
  },
  {
   "cell_type": "code",
   "execution_count": 241,
   "metadata": {},
   "outputs": [
    {
     "name": "stderr",
     "output_type": "stream",
     "text": [
      "WARNING:root:frame length (1103) is greater than FFT size (512), frame will be truncated. Increase NFFT to avoid.\n",
      "WARNING:root:frame length (1103) is greater than FFT size (512), frame will be truncated. Increase NFFT to avoid.\n",
      "WARNING:root:frame length (551) is greater than FFT size (512), frame will be truncated. Increase NFFT to avoid.\n"
     ]
    },
    {
     "name": "stderr",
     "output_type": "stream",
     "text": [
      "WARNING:root:frame length (1103) is greater than FFT size (512), frame will be truncated. Increase NFFT to avoid.\n",
      "WARNING:root:frame length (1200) is greater than FFT size (512), frame will be truncated. Increase NFFT to avoid.\n",
      "WARNING:root:frame length (1103) is greater than FFT size (512), frame will be truncated. Increase NFFT to avoid.\n"
     ]
    },
    {
     "name": "stderr",
     "output_type": "stream",
     "text": [
      "WARNING:root:frame length (1103) is greater than FFT size (512), frame will be truncated. Increase NFFT to avoid.\n",
      "WARNING:root:frame length (1103) is greater than FFT size (512), frame will be truncated. Increase NFFT to avoid.\n",
      "WARNING:root:frame length (1200) is greater than FFT size (512), frame will be truncated. Increase NFFT to avoid.\n"
     ]
    },
    {
     "name": "stderr",
     "output_type": "stream",
     "text": [
      "WARNING:root:frame length (1103) is greater than FFT size (512), frame will be truncated. Increase NFFT to avoid.\n",
      "WARNING:root:frame length (1103) is greater than FFT size (512), frame will be truncated. Increase NFFT to avoid.\n",
      "WARNING:root:frame length (1200) is greater than FFT size (512), frame will be truncated. Increase NFFT to avoid.\n"
     ]
    },
    {
     "name": "stderr",
     "output_type": "stream",
     "text": [
      "WARNING:root:frame length (1103) is greater than FFT size (512), frame will be truncated. Increase NFFT to avoid.\n",
      "WARNING:root:frame length (1103) is greater than FFT size (512), frame will be truncated. Increase NFFT to avoid.\n",
      "WARNING:root:frame length (1103) is greater than FFT size (512), frame will be truncated. Increase NFFT to avoid.\n"
     ]
    },
    {
     "name": "stderr",
     "output_type": "stream",
     "text": [
      "WARNING:root:frame length (1103) is greater than FFT size (512), frame will be truncated. Increase NFFT to avoid.\n",
      "WARNING:root:frame length (1103) is greater than FFT size (512), frame will be truncated. Increase NFFT to avoid.\n",
      "WARNING:root:frame length (1103) is greater than FFT size (512), frame will be truncated. Increase NFFT to avoid.\n"
     ]
    }
   ],
   "source": [
    "input_folder = 'data'\n",
    "\n",
    "mfcc_data_split = {category : [] for category in categories}\n",
    "hmm_models = {}\n",
    "mfcc_data = {}\n",
    "\n",
    "# Parse the input directory\n",
    "for category in categories:\n",
    "    # Get the name of the subfolder\n",
    "    subfolder = os.path.join(input_folder, category)\n",
    "    if not os.path.isdir(subfolder):\n",
    "        print(f'Invalid dir: {subfolder} does not exists!'); break\n",
    "    # Iterate through the audio files (leaving 1 file for testing in each class)\n",
    "    for filepath in glob.glob(path.join(subfolder, '*.wav')):\n",
    "        try:\n",
    "            sampling_freq, audio = wavfile.read(filepath)\n",
    "        except:\n",
    "            continue\n",
    "        # Extract MFCC features\n",
    "        mfcc_features = mfcc(audio, sampling_freq)\n",
    "        mfcc_data_split[category].append(mfcc_features)"
   ]
  },
  {
   "cell_type": "code",
   "execution_count": 243,
   "metadata": {},
   "outputs": [
    {
     "name": "stdout",
     "output_type": "stream",
     "text": [
      "201\n",
      "177\n"
     ]
    }
   ],
   "source": [
    "print(len(mfcc_data_split[\"cough\"]))\n",
    "print(len(mfcc_data_split[\"no_cough\"]))"
   ]
  },
  {
   "cell_type": "code",
   "execution_count": 278,
   "metadata": {},
   "outputs": [],
   "source": [
    "# Split into Training / Testing\n",
    "train_data = {}\n",
    "test_data = {}\n",
    "train_data_split = {}\n",
    "test_data_split = {}\n",
    "\n",
    "split_per = 0.992\n",
    "for category in mfcc_data_split:\n",
    "    data = mfcc_data_split[category]\n",
    "    shuffle(data)\n",
    "    n = int(len(data) * split_per)\n",
    "    train, test = data[:n], data[n:]\n",
    "    train_data_split[category] = train\n",
    "    test_data_split[category] = test\n",
    "    train_data[category] = np.concatenate(train_data_split[category], axis=0)\n",
    "    test_data[category] = np.concatenate(test_data_split[category], axis=0)"
   ]
  },
  {
   "cell_type": "code",
   "execution_count": 279,
   "metadata": {},
   "outputs": [],
   "source": [
    "# Create models\n",
    "for category in categories:\n",
    "    hmm_trainer = HMMTrainer(n_components=10)\n",
    "    hmm_models[category] = hmm_trainer"
   ]
  },
  {
   "cell_type": "code",
   "execution_count": 280,
   "metadata": {},
   "outputs": [],
   "source": [
    "for category in categories:\n",
    "    shuffle(train_data[category])\n",
    "    hmm_models[category].train(train_data[category][:10000])"
   ]
  },
  {
   "cell_type": "markdown",
   "metadata": {},
   "source": [
    "## Testing"
   ]
  },
  {
   "cell_type": "code",
   "execution_count": 281,
   "metadata": {},
   "outputs": [
    {
     "name": "stdout",
     "output_type": "stream",
     "text": [
      "0.5\n",
      "0.5\n",
      "0.5\n"
     ]
    }
   ],
   "source": [
    "# categories = ['cough','no_cough']\n",
    "input_folder = 'data/'\n",
    "\n",
    "real_labels = []\n",
    "pred_labels = []\n",
    "for category in categories:\n",
    "    for mfcc_features in test_data_split[category]:\n",
    "        pred = get_pred(hmm_models, mfcc_features)\n",
    "        real_labels.append(category)\n",
    "        pred_labels.append(pred)\n",
    "    \n",
    "cough_c = 0\n",
    "no_cough_c = 0\n",
    "total = 0\n",
    "\n",
    "for real, pred in zip(pred_labels, real_labels):\n",
    "    if pred == real:\n",
    "        if real == 'cough':\n",
    "            cough_c += 1\n",
    "        else:\n",
    "            no_cough_c +=1\n",
    "    total += 1\n",
    "    \n",
    "print(cough_c / len(test_data_split['cough']))\n",
    "print(no_cough_c / len(test_data_split['no_cough']))\n",
    "print(total / len(pred))"
   ]
  },
  {
   "cell_type": "code",
   "execution_count": 282,
   "metadata": {},
   "outputs": [
    {
     "name": "stdout",
     "output_type": "stream",
     "text": [
      "[[1 1]\n",
      " [1 1]]\n",
      "Normalized confusion matrix\n"
     ]
    },
    {
     "data": {
      "image/png": "[encoded data removed]",
      "text/plain": [
       "<Figure size 432x288 with 2 Axes>"
      ]
     },
     "metadata": {
      "needs_background": "light"
     },
     "output_type": "display_data"
    }
   ],
   "source": [
    "cm = confusion_matrix(real_labels, pred_labels)\n",
    "print(cm)\n",
    "np.set_printoptions(precision=2)\n",
    "plt.figure()\n",
    "plot_confusion_matrix(\n",
    "    cm,\n",
    "    classes=categories,\n",
    "    normalize=True,\n",
    "    title='Normalized confusion matrix')\n",
    "\n",
    "plt.show()"
   ]
  },
  {
   "cell_type": "code",
   "execution_count": null,
   "metadata": {},
   "outputs": [],
   "source": []
  }
 ],
 "metadata": {
  "kernelspec": {
   "display_name": "Python 3",
   "language": "python",
   "name": "python3"
  },
  "language_info": {
   "codemirror_mode": {
    "name": "ipython",
    "version": 3
   },
   "file_extension": ".py",
   "mimetype": "text/x-python",
   "name": "python",
   "nbconvert_exporter": "python",
   "pygments_lexer": "ipython3",
   "version": "3.7.1"
  }
 },
 "nbformat": 4,
 "nbformat_minor": 2
}
